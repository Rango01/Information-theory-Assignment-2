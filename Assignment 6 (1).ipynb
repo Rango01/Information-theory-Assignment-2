{
 "cells": [
  {
   "cell_type": "code",
   "execution_count": 1,
   "metadata": {},
   "outputs": [
    {
     "data": {
      "text/plain": [
       "'001110010100111100011000011111010100010110001011100101100110110010101111011101010101111100000100101110010001101101001010101110011001001010100110011000111010110001110'"
      ]
     },
     "execution_count": 1,
     "metadata": {},
     "output_type": "execute_result"
    }
   ],
   "source": [
    "# 1 task\n",
    "text = open('text.txt','r')\n",
    "text = text.read()\n",
    "\n",
    "text"
   ]
  },
  {
   "cell_type": "code",
   "execution_count": 2,
   "metadata": {},
   "outputs": [
    {
     "name": "stdout",
     "output_type": "stream",
     "text": [
      "Data blocks:\n"
     ]
    },
    {
     "data": {
      "text/plain": [
       "['00111001010',\n",
       " '01111000110',\n",
       " '00011111010',\n",
       " '10001011000',\n",
       " '10111001011',\n",
       " '00110110010',\n",
       " '10111101110',\n",
       " '10101011111',\n",
       " '00000100101',\n",
       " '11001000110',\n",
       " '11010010101',\n",
       " '01110011001',\n",
       " '00101010011',\n",
       " '00110001110',\n",
       " '10110001110']"
      ]
     },
     "execution_count": 2,
     "metadata": {},
     "output_type": "execute_result"
    }
   ],
   "source": [
    "# 2 task (15,11)\n",
    "text_length = len(text)\n",
    "text_size = len(text)//15\n",
    "\n",
    "bits = [text[k:k+text_size] for k in range(0, text_length, text_size) ]\n",
    "print('Data blocks:')\n",
    "bits"
   ]
  },
  {
   "cell_type": "code",
   "execution_count": 3,
   "metadata": {},
   "outputs": [
    {
     "name": "stdout",
     "output_type": "stream",
     "text": [
      "Data blocks:\n"
     ]
    },
    {
     "data": {
      "text/plain": [
       "['0011',\n",
       " '1001',\n",
       " '0100',\n",
       " '1111',\n",
       " '0001',\n",
       " '1000',\n",
       " '0111',\n",
       " '1101',\n",
       " '0100',\n",
       " '0101',\n",
       " '1000',\n",
       " '1011',\n",
       " '1001',\n",
       " '0110',\n",
       " '0110',\n",
       " '1100',\n",
       " '1010',\n",
       " '1111',\n",
       " '0111',\n",
       " '0101',\n",
       " '0101',\n",
       " '1111',\n",
       " '0000',\n",
       " '0100',\n",
       " '1011',\n",
       " '1001',\n",
       " '0001',\n",
       " '1011',\n",
       " '0100',\n",
       " '1010',\n",
       " '1011',\n",
       " '1001',\n",
       " '1001',\n",
       " '0010',\n",
       " '1010',\n",
       " '0110',\n",
       " '0110',\n",
       " '0011',\n",
       " '1010',\n",
       " '1100',\n",
       " '0111',\n",
       " '0']"
      ]
     },
     "execution_count": 3,
     "metadata": {},
     "output_type": "execute_result"
    }
   ],
   "source": [
    "# 2 task (7,4)\n",
    "text_length = len(text)\n",
    "text_size = 4\n",
    "print('Data blocks:')\n",
    "bits7 = [text[k:k+text_size] for k in range(0, text_length, text_size) ]\n",
    "bits7"
   ]
  },
  {
   "cell_type": "code",
   "execution_count": 9,
   "metadata": {},
   "outputs": [
    {
     "name": "stdout",
     "output_type": "stream",
     "text": [
      "0011\n",
      "Expand the block to 8 its:  _ _ _  0  _  0  _  1   1\n",
      "0010100\n"
     ]
    }
   ],
   "source": [
    "m = len(bits[0])\n",
    "databits=bits7[0]\n",
    "print(databits)\n",
    "\n",
    "print('Expand the block to 8 its:  _ _ _ ',databits[0],' _ ',databits[1],' _ ',databits[2],' ',databits[3],)\n",
    "numb = 0\n",
    "counter = 1\n",
    "encoded = ''\n",
    "for i in range(1,len(databits)+4):\n",
    "    if i==2**numb:\n",
    "        encoded+='0'\n",
    "        numb+=1\n",
    "    else:\n",
    "        encoded=encoded + databits[-1* counter]\n",
    "        counter +=1\n",
    "encoded=encoded[::-1]\n",
    "for i in range(numb):\n",
    "    val=0\n",
    "    for j in range(1,8):\n",
    "        if(j& (2**i)==(2**i)):\n",
    "            val=val^int(encoded[-1*j])\n",
    "print(encoded)"
   ]
  },
  {
   "cell_type": "code",
   "execution_count": 5,
   "metadata": {},
   "outputs": [],
   "source": [
    "# In order to check the number of parity bits\n",
    "def NumberOfParityBits(bitstring):\n",
    "    for k in range(bitstring):\n",
    "        if(pow(2,k)-1 >= bitstring + k):\n",
    "            return k\n",
    "\n",
    "# Finding positions of parity bits\n",
    "def PositioningParityBits(bitstring, length):\n",
    "    power = 0\n",
    "    result = ''\n",
    "    l = 1\n",
    "    m = len(bitstring)\n",
    "    for i in range(0, 15):\n",
    "        if(i == pow(2, power)):\n",
    "            result = result + '0'\n",
    "            power = power + 1\n",
    "        else:\n",
    "            result = result + bitstring[l +-1]\n",
    "            l = l + 1     \n",
    "    return result\n",
    "\n",
    "# In order to calculate parities\n",
    "def Calculate(result, leng):\n",
    "    length = len(result)\n",
    "    for i in range(leng):\n",
    "        res = 0\n",
    "        for j in range(0,length+1):\n",
    "            if(j & pow(2,i) == pow(2,i)):\n",
    "                res = res ^ int(result[-1 * j])\n",
    "  \n",
    "        result = result[:length-pow(2,i)] + str(res) + result[length-pow(2,i)+1:]\n",
    "    return result"
   ]
  },
  {
   "cell_type": "code",
   "execution_count": 6,
   "metadata": {},
   "outputs": [
    {
     "name": "stdout",
     "output_type": "stream",
     "text": [
      "00111001010 :\n",
      "Expand the block to 16 bits: 0 _ _ 0 _ 1 1 1 _ 0 0 1 0 1 0\n",
      "p1: 0\n",
      "p2: 0\n",
      "p4: 0\n",
      "p8: 0\n",
      "Encoded bitstring: 000001110001001\n"
     ]
    }
   ],
   "source": [
    "m = len(bits[0])\n",
    "length = NumberOfParityBits(int(m))\n",
    "\n",
    "position = PositioningParityBits((bits[0]), length)\n",
    "calculate = Calculate(position, length)\n",
    "\n",
    "print(bits[0],':')\n",
    "print('Expand the block to 16 bits: 0 _ _ 0 _ 1 1 1 _ 0 0 1 0 1 0')\n",
    "print('p1:', calculate[1])\n",
    "print('p2:', calculate[2])\n",
    "print('p4:', calculate[4])\n",
    "print('p8:', calculate[8])\n",
    "print('Encoded bitstring:', calculate)"
   ]
  },
  {
   "cell_type": "code",
   "execution_count": 7,
   "metadata": {},
   "outputs": [
    {
     "name": "stdout",
     "output_type": "stream",
     "text": [
      "For all blocks:  000001110001010000101110000110000000110111010100000010011000100001110001011000001100110010100001110101110100001010011111000000000100101100100010000110100100100010101000101100011001000001010010011000001100001110100001100001110\n"
     ]
    }
   ],
   "source": [
    "position = PositioningParityBits((bits[0]), length)\n",
    "position1 = PositioningParityBits((bits[1]), length)\n",
    "position2 = PositioningParityBits((bits[2]), length)\n",
    "position3 = PositioningParityBits((bits[3]), length)\n",
    "position4 = PositioningParityBits((bits[4]), length)\n",
    "position5 = PositioningParityBits((bits[5]), length)\n",
    "position6 = PositioningParityBits((bits[6]), length)\n",
    "position7 = PositioningParityBits((bits[7]), length)\n",
    "position8 = PositioningParityBits((bits[8]), length)\n",
    "position9 = PositioningParityBits((bits[9]), length)\n",
    "position10 = PositioningParityBits((bits[10]), length)\n",
    "position11 = PositioningParityBits((bits[11]), length)\n",
    "position12 = PositioningParityBits((bits[12]), length)\n",
    "position13 = PositioningParityBits((bits[13]), length)\n",
    "position14 = PositioningParityBits((bits[14]), length)\n",
    "\n",
    "print('For all blocks: ', position + position1 + position2 + position3 + position4 + position5 + position6 + position7 + \n",
    "      position8 + position9 + position10 + position11 + position12 + position13 + position14)"
   ]
  }
 ],
 "metadata": {
  "kernelspec": {
   "display_name": "Python 3",
   "language": "python",
   "name": "python3"
  },
  "language_info": {
   "codemirror_mode": {
    "name": "ipython",
    "version": 3
   },
   "file_extension": ".py",
   "mimetype": "text/x-python",
   "name": "python",
   "nbconvert_exporter": "python",
   "pygments_lexer": "ipython3",
   "version": "3.8.5"
  }
 },
 "nbformat": 4,
 "nbformat_minor": 5
}
